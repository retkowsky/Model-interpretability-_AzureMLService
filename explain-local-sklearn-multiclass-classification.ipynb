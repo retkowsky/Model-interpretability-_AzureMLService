{
 "cells": [
  {
   "cell_type": "markdown",
   "metadata": {},
   "source": [
    "# Iris flower classification with scikit-learn (run model explainer locally)"
   ]
  },
  {
   "cell_type": "markdown",
   "metadata": {},
   "source": [
    "![Impressions](https://PixelServer20190423114238.azurewebsites.net/api/impressions/MachineLearningNotebooks/how-to-use-azureml/explain-model/explain-tabular-data-local/explain-local-sklearn-multiclass-classification.png)"
   ]
  },
  {
   "cell_type": "markdown",
   "metadata": {},
   "source": [
    "Copyright (c) Microsoft Corporation. All rights reserved.\n",
    "\n",
    "Licensed under the MIT License."
   ]
  },
  {
   "cell_type": "markdown",
   "metadata": {},
   "source": [
    "Explain a model with the AML explain-model package\n",
    "\n",
    "1. Train a SVM classification model using Scikit-learn\n",
    "2. Run 'explain_model' with full data in local mode, which doesn't contact any Azure services\n",
    "3. Run 'explain_model' with summarized data in local mode, which doesn't contact any Azure services\n",
    "4. Visualize the global and local explanations with the visualization dashboard."
   ]
  },
  {
   "cell_type": "code",
   "execution_count": 1,
   "metadata": {},
   "outputs": [
    {
     "data": {
      "text/plain": [
       "'3.6.8 |Anaconda, Inc.| (default, Dec 30 2018, 18:50:55) [MSC v.1915 64 bit (AMD64)]'"
      ]
     },
     "execution_count": 1,
     "metadata": {},
     "output_type": "execute_result"
    }
   ],
   "source": [
    "import sys\n",
    "sys.version"
   ]
  },
  {
   "cell_type": "code",
   "execution_count": 2,
   "metadata": {},
   "outputs": [],
   "source": [
    "#!pip install --upgrade azureml-sdk"
   ]
  },
  {
   "cell_type": "code",
   "execution_count": 3,
   "metadata": {},
   "outputs": [],
   "source": [
    "#!pip install azureml-sdk[explain,contrib]"
   ]
  },
  {
   "cell_type": "code",
   "execution_count": 2,
   "metadata": {},
   "outputs": [
    {
     "name": "stdout",
     "output_type": "stream",
     "text": [
      "Version Azure ML service : 1.0.53\n"
     ]
    }
   ],
   "source": [
    "import azureml.core\n",
    "print(\"Version Azure ML service :\", azureml.core.VERSION)"
   ]
  },
  {
   "cell_type": "code",
   "execution_count": 3,
   "metadata": {},
   "outputs": [
    {
     "name": "stderr",
     "output_type": "stream",
     "text": [
      "C:\\Anaconda\\envs\\AzureML\\lib\\site-packages\\sklearn\\ensemble\\weight_boosting.py:29: DeprecationWarning: numpy.core.umath_tests is an internal NumPy module and should not be imported. It will be removed in a future NumPy release.\n",
      "  from numpy.core.umath_tests import inner1d\n"
     ]
    }
   ],
   "source": [
    "from sklearn.datasets import load_iris\n",
    "from sklearn import svm\n",
    "from azureml.explain.model.tabular_explainer import TabularExplainer"
   ]
  },
  {
   "cell_type": "markdown",
   "metadata": {},
   "source": [
    "# 1. Run model explainer locally with full data"
   ]
  },
  {
   "cell_type": "markdown",
   "metadata": {},
   "source": [
    "## Load the breast cancer diagnosis data"
   ]
  },
  {
   "cell_type": "code",
   "execution_count": 4,
   "metadata": {},
   "outputs": [],
   "source": [
    "iris = load_iris()\n",
    "X = iris['data']\n",
    "y = iris['target']\n",
    "classes = iris['target_names']\n",
    "feature_names = iris['feature_names']"
   ]
  },
  {
   "cell_type": "code",
   "execution_count": 5,
   "metadata": {},
   "outputs": [
    {
     "data": {
      "text/html": [
       "['sepal length (cm)', 'sepal width (cm)', 'petal length (cm)', 'petal width (cm)']"
      ],
      "text/plain": [
       "['sepal length (cm)',\n",
       " 'sepal width (cm)',\n",
       " 'petal length (cm)',\n",
       " 'petal width (cm)']"
      ]
     },
     "execution_count": 5,
     "metadata": {},
     "output_type": "execute_result"
    }
   ],
   "source": [
    "feature_names"
   ]
  },
  {
   "cell_type": "code",
   "execution_count": 6,
   "metadata": {},
   "outputs": [
    {
     "data": {
      "text/plain": [
       "array(['setosa', 'versicolor', 'virginica'], dtype='<U10')"
      ]
     },
     "execution_count": 6,
     "metadata": {},
     "output_type": "execute_result"
    }
   ],
   "source": [
    "classes"
   ]
  },
  {
   "cell_type": "code",
   "execution_count": 7,
   "metadata": {},
   "outputs": [],
   "source": [
    "from sklearn.model_selection import train_test_split\n",
    "x_train, x_test, y_train, y_test = train_test_split(X, y, test_size=0.2, random_state=0)"
   ]
  },
  {
   "cell_type": "markdown",
   "metadata": {},
   "source": [
    "## Train a SVM classification model, which you want to explain"
   ]
  },
  {
   "cell_type": "code",
   "execution_count": 8,
   "metadata": {},
   "outputs": [],
   "source": [
    "clf = svm.SVC(gamma=0.001, C=100., probability=True)\n",
    "model = clf.fit(x_train, y_train)"
   ]
  },
  {
   "cell_type": "markdown",
   "metadata": {},
   "source": [
    "## Explain predictions on your local machine"
   ]
  },
  {
   "cell_type": "code",
   "execution_count": 9,
   "metadata": {},
   "outputs": [
    {
     "name": "stderr",
     "output_type": "stream",
     "text": [
      "C:\\Anaconda\\envs\\AzureML\\lib\\site-packages\\shap\\explainers\\linear.py:49: UserWarning: The default value for feature_dependence has been changed to \"independent\"!\n",
      "  warnings.warn('The default value for feature_dependence has been changed to \"independent\"!')\n"
     ]
    }
   ],
   "source": [
    "tabular_explainer = TabularExplainer(model, x_train, features = feature_names, classes=classes)"
   ]
  },
  {
   "cell_type": "markdown",
   "metadata": {},
   "source": [
    "## Explain overall model predictions (global explanation)"
   ]
  },
  {
   "cell_type": "code",
   "execution_count": 10,
   "metadata": {},
   "outputs": [
    {
     "data": {
      "application/vnd.jupyter.widget-view+json": {
       "model_id": "90a707025f2b42fcae03ae7fd8d16fad",
       "version_major": 2,
       "version_minor": 0
      },
      "text/plain": [
       "HBox(children=(IntProgress(value=0, max=30), HTML(value='')))"
      ]
     },
     "metadata": {},
     "output_type": "display_data"
    },
    {
     "name": "stderr",
     "output_type": "stream",
     "text": [
      "C:\\Anaconda\\envs\\AzureML\\lib\\site-packages\\shap\\explainers\\kernel.py:545: UserWarning: l1_reg=\"auto\" is deprecated and in the next version (v0.29) the behavior will change from a conditional use of AIC to simply \"num_features(10)\"!\n",
      "  \"l1_reg=\\\"auto\\\" is deprecated and in the next version (v0.29) the behavior will change from a \" \\\n"
     ]
    },
    {
     "name": "stdout",
     "output_type": "stream",
     "text": [
      "\n"
     ]
    }
   ],
   "source": [
    "global_explanation = tabular_explainer.explain_global(x_test)"
   ]
  },
  {
   "cell_type": "markdown",
   "metadata": {},
   "source": [
    "**Shap = SHapley Additive exPlanations**\n",
    "\n",
    "**Shapley** values calculate the importance of a feature by comparing what a model predicts with and without the feature. However, since the order in which a model sees features can affect its predictions, this is done in every possible order, so that the features are fairly compared."
   ]
  },
  {
   "cell_type": "code",
   "execution_count": 11,
   "metadata": {},
   "outputs": [
    {
     "name": "stdout",
     "output_type": "stream",
     "text": [
      "Ranked global importance values: [0.33272091943477605, 0.08628005286986912, 0.01734866350913634, 0.011047507408969781]\n",
      "\n",
      "Ranked global importance names: ['petal length (cm)', 'petal width (cm)', 'sepal length (cm)', 'sepal width (cm)']\n",
      "\n",
      "Global importance rank: [2, 3, 0, 1]\n",
      "\n",
      "Ranked per class feature names: [['petal length (cm)', 'petal width (cm)', 'sepal width (cm)', 'sepal length (cm)'], ['petal length (cm)', 'petal width (cm)', 'sepal length (cm)', 'sepal width (cm)'], ['petal length (cm)', 'petal width (cm)', 'sepal length (cm)', 'sepal width (cm)']]\n",
      "\n",
      "Ranked per class feature values: [[0.38659459709769806, 0.02599030683424756, 0.011487634888095268, 0.003528143360776975], [0.37436360331772967, 0.10945924732700968, 0.025737452416922876, 0.008786774156702992], [0.23720455788890035, 0.12339060444835012, 0.02278039474970917, 0.012868113182111087]]\n"
     ]
    }
   ],
   "source": [
    "# Sorted SHAP values\n",
    "print('Ranked global importance values: {}'.format(global_explanation.get_ranked_global_values()))\n",
    "print()\n",
    "\n",
    "# Corresponding feature names\n",
    "print('Ranked global importance names: {}'.format(global_explanation.get_ranked_global_names()))\n",
    "print()\n",
    "\n",
    "# feature ranks (based on original order of features)\n",
    "print('Global importance rank: {}'.format(global_explanation.global_importance_rank))\n",
    "print()\n",
    "\n",
    "# per class feature names\n",
    "print('Ranked per class feature names: {}'.format(global_explanation.get_ranked_per_class_names()))\n",
    "print()\n",
    "\n",
    "# per class feature importance values\n",
    "print('Ranked per class feature values: {}'.format(global_explanation.get_ranked_per_class_values()))"
   ]
  },
  {
   "cell_type": "code",
   "execution_count": 12,
   "metadata": {},
   "outputs": [
    {
     "data": {
      "text/plain": [
       "{'petal length (cm)': 0.33272091943477605,\n",
       " 'petal width (cm)': 0.08628005286986912,\n",
       " 'sepal length (cm)': 0.01734866350913634,\n",
       " 'sepal width (cm)': 0.011047507408969781}"
      ]
     },
     "execution_count": 12,
     "metadata": {},
     "output_type": "execute_result"
    }
   ],
   "source": [
    "dict(zip(global_explanation.get_ranked_global_names(), global_explanation.get_ranked_global_values()))"
   ]
  },
  {
   "cell_type": "markdown",
   "metadata": {},
   "source": [
    "## Explain overall model predictions as a collection of local (instance-level) explanations"
   ]
  },
  {
   "cell_type": "code",
   "execution_count": 13,
   "metadata": {},
   "outputs": [
    {
     "name": "stdout",
     "output_type": "stream",
     "text": [
      "local importance values: [[[-0.001616394175075031, -0.008115947388685596, -0.26754163990546226, -0.03176073978281818], [-0.0017934998503943977, -0.020619797023653325, -0.2749026860364282, -0.01073544865500864], [0.0017616462109611986, 0.034076149864299965, 0.5909356477536405, 0.032317541796518356], [-0.004415694973788992, -0.0051149975235454115, -0.2873221272003731, -0.020099960320811627], [0.0051218622287174664, 0.013764909080055399, 0.573757157980227, 0.04458952930563176], [-0.0027397576207472407, 0.00016526434142219437, -0.28059874101216287, -0.03360916726167329], [0.003840463692482976, 0.013733343933024056, 0.6036558793740525, 0.029455112395089578], [-0.004522832004131089, -0.002078518112959782, -0.29141918203995193, -0.014794264455640804], [-0.004877163058473161, -0.005574480702983914, -0.28868349403692073, -0.013792991191311], [-0.0021790123792854166, -0.008519420880326811, -0.27809364086551397, -0.016062339299479367], [-0.0015757092396594952, -0.008161279290908957, -0.2892964507321141, -0.011371221525958208], [-0.003060356820612148, -0.0008752339956561717, -0.29254294428546884, -0.015785478219289384], [-0.0018975906714963908, -0.00527349672580249, -0.29427845227074223, -0.011933793844083163], [-0.0038419065109382977, -0.005962708119147481, -0.2867829822976136, -0.015843714372279105], [-0.0020514423301000173, -0.004263267001660798, -0.29128721643619226, -0.01358184602289475], [0.005787258197569922, 0.0031264763619703317, 0.570671909119425, 0.052092420551659746], [-0.0017002836672281585, -0.00472439861052068, -0.2887230689344433, -0.016036254022678942], [0.0002527045824110008, -0.00893544602082219, -0.289883156983773, -0.013167744209872212], [0.005990892761785438, -0.0009334631583264308, 0.5848531555690379, 0.04005919430129479], [0.002078912113652742, 0.024287586434872332, 0.6042564474188381, 0.02454084942366752], [-0.0005537496846101664, -0.007091819769352942, -0.2752075243281895, -0.020023840363490197], [-7.709171602585108e-05, -0.003351532503949012, -0.2903821836014414, -0.015583244115918105], [0.009975200801877693, 0.021806921584959726, 0.4855228490252108, 0.07526148475603422], [0.0079106916095818, -0.004261675962659639, 0.5846972278594347, 0.04384045789514912], [-0.0023599883167831626, -0.006316505687526647, -0.27815140536445504, -0.016845842408042655], [0.0033448644661299154, 0.011472716453017395, 0.6316481646158418, 0.0196731232893681], [0.007221227837847566, 0.04393184445829801, 0.4899233141252396, 0.05879569505235771], [-0.0021188165677721305, -0.005093388221482725, -0.289595312353476, -0.01423117749922942], [0.004976555473307193, -0.046621494161382435, -0.18969335821136923, -0.009335949785922726], [0.006200731259863201, 0.016374963269585208, 0.5535305931939025, 0.04448877890425407]], [[-0.007965287253703667, 0.0028422170574217785, -0.004408752071956632, -0.2883849420062946], [-0.007146661926075049, -0.00442016850464183, 0.5643559881019389, 0.11587531174297816], [-0.015083152616699486, -0.007331540822970578, -0.3940263002343397, 0.11741124184738161], [0.049325991439648956, -0.00029219943486552546, -0.3054799362546743, -0.05313417662036346], [-0.026825537861001447, -0.003441185153390147, -0.36201742914734975, 0.10982157660904623], [0.023113959916748417, 0.010986491336456072, -0.18366025080717577, -0.16222989995750195], [-0.025869347608167087, -0.0009523863669740618, -0.3838329249796393, 0.11778542501350364], [0.057993123645433214, 0.015690846618342413, 0.427106211264664, 0.06591482713047192], [0.07463991760627864, -0.010995191634060486, 0.3703337606366481, 0.09321356371428141], [-0.0017239591814123267, 0.005143637085148034, 0.5855116896901701, 0.07432302054506068], [0.007691160712881909, -0.02357202291413439, -0.17157795316397687, -0.06538777483468039], [0.02114327834649732, 0.018928917126012468, 0.5156408767102376, 0.06632025816476739], [0.005011311784796135, -0.006908095199449543, 0.4311061071675545, 0.15726478635281083], [0.04040761084149347, -0.008366794452756482, 0.4592918977960188, 0.06569725472823762], [0.010596421427802205, -0.001719299580253436, 0.4147014026779342, 0.09356296826979604], [-0.028949622979956652, 0.0003171463309243616, -0.35794689213760095, 0.10872273754960188], [-0.0001557688524383427, 0.00017853892888269884, 0.5011685542197095, 0.06653634688743593], [-0.0320034176773612, -0.012054497513484502, 0.53010087925297, 0.13669996244966398], [-0.032697440344785444, 0.002177193226106211, -0.3544617720215161, 0.10839571941519138], [-0.01760170071480774, -0.0023612741602604403, -0.3914133457804094, 0.11536616818205431], [-0.03690985797846697, -0.011192020793888237, 0.08264372789275413, -0.2337485747375435], [-0.028507048994411865, 0.007271726064692785, 0.4962718410690721, 0.06491301168064811], [-0.03602082617085209, -0.011169400868193208, -0.28142843976024945, 0.08082023079828932], [-0.04149656040548985, 0.003032402112448679, -0.35165281788511454, 0.1109341424373832], [0.018917798322858212, -0.02195197804616353, 0.22475706763649336, -0.11930621643191974], [-0.031127447423175525, 0.0029029457554413385, -0.4077978200037474, 0.13156742697169238], [-0.0288152581098233, -0.0228840913204183, -0.2854979757799596, 0.08359672945961916], [0.0014725626369420097, 0.003474649428351184, 0.5586958847749319, 0.09394662094610085], [-0.03323947042702555, 0.03591376065990759, 0.5014591543276795, 0.08511425993937516], [-0.029672069300652082, -0.005130606205049487, -0.332560446285401, 0.09778224438659555]], [[0.009581681428778716, 0.005273730331263854, 0.2719503919774189, 0.3201456817891125], [0.00894016177646953, 0.025039965528295044, -0.28945330206551056, -0.10513986308796985], [0.013321506405738204, -0.026744609041329276, -0.19690934751930095, -0.14972878364390005], [-0.04491029646585998, 0.005407196958410965, 0.592802063455047, 0.0732341369411752], [0.021703675632283842, -0.010323723926665335, -0.21173972883287726, -0.1544111059146778], [-0.020374202296001176, -0.011151755677878322, 0.46425899181933833, 0.19583906721917532], [0.022028883915684166, -0.012780957566049883, -0.21982295439441327, -0.14724053740859347], [-0.05347029164130215, -0.013612328505382618, -0.13568702922471215, -0.05112056267483106], [-0.0697627545478055, 0.016569672337044393, -0.08165026659972724, -0.07942057252297041], [0.00390297156069766, 0.0033757837951788328, -0.30741804882465595, -0.058260681245581536], [-0.006115451473222483, 0.03173330220504336, 0.4608744038960909, 0.07675899636063865], [-0.01808292152588531, -0.018053683130356435, -0.22309793242476847, -0.050534779945478], [-0.003113721113299897, 0.012181591925251964, -0.13682765489681242, -0.1453309925087277], [-0.03656570433055527, 0.01432950257190381, -0.17250891549840527, -0.04985354035595846], [-0.008544979097702202, 0.005982566581914248, -0.123414186241742, -0.0799811222469014], [0.023162364782386646, -0.003443622692894721, -0.2127250169818238, -0.16081515810126187], [0.0018560525196664596, 0.004545859681637815, -0.21244548528526624, -0.050500092864756874], [0.03175071309495005, 0.020989943534306568, -0.24021772226919702, -0.1235322182397918], [0.02670654758300002, -0.0012437300677798913, -0.23039138354752203, -0.14845491371648617], [0.015522788601155108, -0.021926312274612142, -0.2128431016384287, -0.1399070176057218], [0.037463607663077145, 0.01828384056324113, 0.19256379643543545, 0.2537724151010339], [0.028584140710437703, -0.003920193560743981, -0.20588965746763055, -0.049329767564729954], [0.02604562536897441, -0.010637520716766505, -0.20409440926496125, -0.15608171555432346], [0.033585868795907886, 0.0012292738502109324, -0.23304440997432002, -0.15477460033253246], [-0.016557810006075067, 0.028268483733690092, 0.05339433772796166, 0.1361520588399624], [0.027782582957045582, -0.014375662208458637, -0.2238503446120946, -0.1512405502610606], [0.021594030271975734, -0.021047753137879655, -0.20442533834528004, -0.14239242451197712], [0.0006462539308301485, 0.0016187387931315689, -0.26910057242145574, -0.07971544344687143], [0.028262914953718285, 0.010707733501474803, -0.31176579611631017, -0.07577831015345243], [0.02347133804078891, -0.01124435706453579, -0.22097014690850172, -0.14227102329084962]]]\n"
     ]
    }
   ],
   "source": [
    "# feature shap values for all features and all data points in the training data\n",
    "print('local importance values: {}'.format(global_explanation.local_importance_values))"
   ]
  },
  {
   "cell_type": "markdown",
   "metadata": {},
   "source": [
    "## Explain local data points (individual instances)"
   ]
  },
  {
   "cell_type": "code",
   "execution_count": 14,
   "metadata": {},
   "outputs": [],
   "source": [
    "# explain the first member of the test set\n",
    "instance_num = 0\n",
    "local_explanation = tabular_explainer.explain_local(x_test[instance_num,:])"
   ]
  },
  {
   "cell_type": "code",
   "execution_count": 15,
   "metadata": {},
   "outputs": [
    {
     "data": {
      "text/plain": [
       "{'petal width (cm)': 0.3201456817891125,\n",
       " 'petal length (cm)': 0.2719503919774189,\n",
       " 'sepal length (cm)': 0.009581681428778716,\n",
       " 'sepal width (cm)': 0.005273730331263854}"
      ]
     },
     "execution_count": 15,
     "metadata": {},
     "output_type": "execute_result"
    }
   ],
   "source": [
    "# get the prediction for the first member of the test set and explain why model made that prediction\n",
    "prediction_value = clf.predict(x_test)[instance_num]\n",
    "\n",
    "sorted_local_importance_values = local_explanation.get_ranked_local_values()[prediction_value]\n",
    "sorted_local_importance_names = local_explanation.get_ranked_local_names()[prediction_value]\n",
    "\n",
    "dict(zip(sorted_local_importance_names, sorted_local_importance_values))"
   ]
  },
  {
   "cell_type": "markdown",
   "metadata": {},
   "source": [
    "## Load visualization dashboard"
   ]
  },
  {
   "cell_type": "code",
   "execution_count": 16,
   "metadata": {},
   "outputs": [
    {
     "name": "stderr",
     "output_type": "stream",
     "text": [
      "C:\\Anaconda\\envs\\AzureML\\lib\\site-packages\\sklearn\\ensemble\\weight_boosting.py:29: DeprecationWarning: numpy.core.umath_tests is an internal NumPy module and should not be imported. It will be removed in a future NumPy release.\n",
      "  from numpy.core.umath_tests import inner1d\n",
      "Installing C:\\Anaconda\\envs\\AzureML\\lib\\site-packages\\azureml\\contrib\\explain\\model\\visualize\\static -> microsoft-mli-widget\n",
      "Out of date: C:\\Anaconda\\envs\\AzureML\\share\\jupyter\\nbextensions\\microsoft-mli-widget\\extension.js\n",
      "Copying: C:\\Anaconda\\envs\\AzureML\\lib\\site-packages\\azureml\\contrib\\explain\\model\\visualize\\static\\extension.js -> C:\\Anaconda\\envs\\AzureML\\share\\jupyter\\nbextensions\\microsoft-mli-widget\\extension.js\n",
      "Out of date: C:\\Anaconda\\envs\\AzureML\\share\\jupyter\\nbextensions\\microsoft-mli-widget\\extension.js.map\n",
      "Copying: C:\\Anaconda\\envs\\AzureML\\lib\\site-packages\\azureml\\contrib\\explain\\model\\visualize\\static\\extension.js.map -> C:\\Anaconda\\envs\\AzureML\\share\\jupyter\\nbextensions\\microsoft-mli-widget\\extension.js.map\n",
      "Out of date: C:\\Anaconda\\envs\\AzureML\\share\\jupyter\\nbextensions\\microsoft-mli-widget\\index.js\n",
      "Copying: C:\\Anaconda\\envs\\AzureML\\lib\\site-packages\\azureml\\contrib\\explain\\model\\visualize\\static\\index.js -> C:\\Anaconda\\envs\\AzureML\\share\\jupyter\\nbextensions\\microsoft-mli-widget\\index.js\n",
      "Out of date: C:\\Anaconda\\envs\\AzureML\\share\\jupyter\\nbextensions\\microsoft-mli-widget\\index.js.map\n",
      "Copying: C:\\Anaconda\\envs\\AzureML\\lib\\site-packages\\azureml\\contrib\\explain\\model\\visualize\\static\\index.js.map -> C:\\Anaconda\\envs\\AzureML\\share\\jupyter\\nbextensions\\microsoft-mli-widget\\index.js.map\n",
      "- Validating: ok\n",
      "\n",
      "    To initialize this nbextension in the browser every time the notebook (or other app) loads:\n",
      "    \n",
      "          jupyter nbextension enable azureml.contrib.explain.model.visualize --py --sys-prefix\n",
      "    \n",
      "C:\\Anaconda\\envs\\AzureML\\lib\\site-packages\\sklearn\\ensemble\\weight_boosting.py:29: DeprecationWarning: numpy.core.umath_tests is an internal NumPy module and should not be imported. It will be removed in a future NumPy release.\n",
      "  from numpy.core.umath_tests import inner1d\n",
      "Enabling notebook extension microsoft-mli-widget/extension...\n",
      "      - Validating: ok\n"
     ]
    }
   ],
   "source": [
    "# Note you will need to have extensions enabled prior to jupyter kernel starting\n",
    "!jupyter nbextension install --py --sys-prefix azureml.contrib.explain.model.visualize\n",
    "!jupyter nbextension enable --py --sys-prefix azureml.contrib.explain.model.visualize\n",
    "# Or, in Jupyter Labs, uncomment below\n",
    "# jupyter labextension install @jupyter-widgets/jupyterlab-manager\n",
    "# jupyter labextension install microsoft-mli-widget"
   ]
  },
  {
   "cell_type": "code",
   "execution_count": 17,
   "metadata": {},
   "outputs": [],
   "source": [
    "from azureml.contrib.explain.model.visualize import ExplanationDashboard"
   ]
  },
  {
   "cell_type": "code",
   "execution_count": 18,
   "metadata": {},
   "outputs": [
    {
     "data": {
      "application/vnd.jupyter.widget-view+json": {
       "model_id": "fea3ffa98c034f898a9f8c65ed722f70",
       "version_major": 2,
       "version_minor": 0
      },
      "text/plain": [
       "ExplanationWidget(value={'localExplanations': [[[-0.001616394175075031, -0.008115947388685596, -0.267541639905…"
      ]
     },
     "metadata": {},
     "output_type": "display_data"
    },
    {
     "data": {
      "text/plain": [
       "<azureml.contrib.explain.model.visualize.ExplanationDashboard.ExplanationDashboard at 0x2cbf1c87940>"
      ]
     },
     "execution_count": 18,
     "metadata": {},
     "output_type": "execute_result"
    }
   ],
   "source": [
    "ExplanationDashboard(global_explanation, model, x_test)"
   ]
  },
  {
   "cell_type": "code",
   "execution_count": null,
   "metadata": {},
   "outputs": [],
   "source": []
  }
 ],
 "metadata": {
  "authors": [
   {
    "name": "mesameki"
   }
  ],
  "kernelspec": {
   "display_name": "Python [conda env:AzureML]",
   "language": "python",
   "name": "conda-env-AzureML-py"
  },
  "language_info": {
   "codemirror_mode": {
    "name": "ipython",
    "version": 3
   },
   "file_extension": ".py",
   "mimetype": "text/x-python",
   "name": "python",
   "nbconvert_exporter": "python",
   "pygments_lexer": "ipython3",
   "version": "3.6.8"
  }
 },
 "nbformat": 4,
 "nbformat_minor": 2
}
